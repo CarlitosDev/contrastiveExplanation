{
 "cells": [
  {
   "cell_type": "markdown",
   "metadata": {},
   "source": [
    "### Contrastive Explanations on a public dataset\n",
    "Quick test on the Boston housing dataset as it can be seen as a cold-start problem.\n",
    "\n",
    "Updates 22.04.2021 - Show contrastive explanations"
   ]
  },
  {
   "cell_type": "code",
   "execution_count": 1,
   "metadata": {},
   "outputs": [
    {
     "name": "stderr",
     "output_type": "stream",
     "text": [
      "\n",
      "Bad key savefig.frameon in file /usr/local/lib/python3.8/site-packages/matplotlib/mpl-data/stylelib/_classic_test.mplstyle, line 421 ('savefig.frameon : True')\n",
      "You probably need to get an updated matplotlibrc file from\n",
      "https://github.com/matplotlib/matplotlib/blob/v3.4.0/matplotlibrc.template\n",
      "or from the matplotlib source distribution\n",
      "\n",
      "Bad key verbose.level in file /usr/local/lib/python3.8/site-packages/matplotlib/mpl-data/stylelib/_classic_test.mplstyle, line 472 ('verbose.level  : silent      # one of silent, helpful, debug, debug-annoying')\n",
      "You probably need to get an updated matplotlibrc file from\n",
      "https://github.com/matplotlib/matplotlib/blob/v3.4.0/matplotlibrc.template\n",
      "or from the matplotlib source distribution\n",
      "\n",
      "Bad key verbose.fileo in file /usr/local/lib/python3.8/site-packages/matplotlib/mpl-data/stylelib/_classic_test.mplstyle, line 473 ('verbose.fileo  : sys.stdout  # a log filename, sys.stdout or sys.stderr')\n",
      "You probably need to get an updated matplotlibrc file from\n",
      "https://github.com/matplotlib/matplotlib/blob/v3.4.0/matplotlibrc.template\n",
      "or from the matplotlib source distribution\n",
      "In /usr/local/lib/python3.8/site-packages/matplotlib/mpl-data/stylelib/_classic_test.mplstyle: \n",
      "The text.latex.preview rcparam was deprecated in Matplotlib 3.3 and will be removed two minor releases later.\n",
      "In /usr/local/lib/python3.8/site-packages/matplotlib/mpl-data/stylelib/_classic_test.mplstyle: \n",
      "The mathtext.fallback_to_cm rcparam was deprecated in Matplotlib 3.3 and will be removed two minor releases later.\n",
      "In /usr/local/lib/python3.8/site-packages/matplotlib/mpl-data/stylelib/_classic_test.mplstyle: Support for setting the 'mathtext.fallback_to_cm' rcParam is deprecated since 3.3 and will be removed two minor releases later; use 'mathtext.fallback : 'cm' instead.\n",
      "In /usr/local/lib/python3.8/site-packages/matplotlib/mpl-data/stylelib/_classic_test.mplstyle: \n",
      "The validate_bool_maybe_none function was deprecated in Matplotlib 3.3 and will be removed two minor releases later.\n",
      "In /usr/local/lib/python3.8/site-packages/matplotlib/mpl-data/stylelib/_classic_test.mplstyle: \n",
      "The savefig.jpeg_quality rcparam was deprecated in Matplotlib 3.3 and will be removed two minor releases later.\n",
      "In /usr/local/lib/python3.8/site-packages/matplotlib/mpl-data/stylelib/_classic_test.mplstyle: \n",
      "The keymap.all_axes rcparam was deprecated in Matplotlib 3.3 and will be removed two minor releases later.\n",
      "In /usr/local/lib/python3.8/site-packages/matplotlib/mpl-data/stylelib/_classic_test.mplstyle: \n",
      "The animation.avconv_path rcparam was deprecated in Matplotlib 3.3 and will be removed two minor releases later.\n",
      "In /usr/local/lib/python3.8/site-packages/matplotlib/mpl-data/stylelib/_classic_test.mplstyle: \n",
      "The animation.avconv_args rcparam was deprecated in Matplotlib 3.3 and will be removed two minor releases later.\n"
     ]
    }
   ],
   "source": [
    "from sklearn.datasets import load_boston\n",
    "import matplotlib\n",
    "import category_encoders as ce\n",
    "import pandas as pd\n",
    "import numpy as np\n",
    "from os import path as _p\n",
    "\n",
    "from contrastiveRegressor import contrastiveRegressor\n",
    "\n",
    "from sklearn.model_selection import train_test_split\n",
    "from catboost import CatBoostRegressor, Pool\n",
    "\n",
    "import seaborn as sns\n",
    "import matplotlib.pyplot as plt\n",
    "import preprocessing_utils as pt\n",
    "import fcn_helpers as fhelp\n",
    "import datetime as dt"
   ]
  },
  {
   "cell_type": "code",
   "execution_count": 2,
   "metadata": {},
   "outputs": [],
   "source": [
    "# prepare some data\n",
    "boston = load_boston()\n",
    "y = boston.target\n",
    "X = pd.DataFrame(boston.data, columns=boston.feature_names)\n",
    "inputVars = X.columns.tolist()"
   ]
  },
  {
   "cell_type": "code",
   "execution_count": 3,
   "metadata": {},
   "outputs": [],
   "source": [
    "X_train, X_test, y_train, y_test = \\\n",
    "  train_test_split(X, y, test_size=0.25, random_state=42)"
   ]
  },
  {
   "cell_type": "code",
   "execution_count": 4,
   "metadata": {},
   "outputs": [],
   "source": [
    "# Regressor\n",
    "num_iterations = 600\n",
    "learning_rate  = 0.15\n",
    "depth = 12\n",
    "num_neighbours = 5\n",
    "validation_test_size = 0.20\n",
    "feat_importance_keyword = 'feature_importances_'"
   ]
  },
  {
   "cell_type": "code",
   "execution_count": 5,
   "metadata": {},
   "outputs": [
    {
     "name": "stdout",
     "output_type": "stream",
     "text": [
      "Preparing Training set...\n",
      "Training set (1515, 26). Evaluation (380, 26)...done.\n",
      "...Symmetrical Weights\n",
      "MAE: 1.21\n",
      "MSE: 2.23\n",
      "RMSE: 1.49\n",
      "meanError: -0.34\n",
      "MAPE: 6.45\n",
      "R2: 0.97\n",
      "frc_error: 0.05\n",
      "frc_bias: -0.01\n",
      "frc_acc: 1.01\n",
      "Var explained: 0.97\n"
     ]
    }
   ],
   "source": [
    "# Create the forecaster\n",
    "contrastiveReg = contrastiveRegressor(num_neighbours = num_neighbours, \n",
    "validation_test_size = validation_test_size)\n",
    "\n",
    "# CatBoost\n",
    "cb_model = CatBoostRegressor(iterations=num_iterations, learning_rate=learning_rate,\n",
    "depth=depth, loss_function='RMSE', cat_features=None, silent=False)\n",
    "# Set the regressor\n",
    "contrastiveReg.set_regressor(cb_model, feat_importance_keyword, inputVars)\n",
    "# fit the regressor\n",
    "contrastiveReg.fit(X_train.values, y_train)\n",
    "# eval results\n",
    "contrastiveReg.predict_eval_test()\n",
    "eval_results = contrastiveReg.get_results()"
   ]
  },
  {
   "cell_type": "code",
   "execution_count": 6,
   "metadata": {},
   "outputs": [
    {
     "name": "stdout",
     "output_type": "stream",
     "text": [
      "...Symmetrical Weights\n"
     ]
    }
   ],
   "source": [
    "# Predict\n",
    "contrastiveReg.predict(X_test.values)\n",
    "cold_start_results = contrastiveReg.get_results()"
   ]
  },
  {
   "cell_type": "code",
   "execution_count": 7,
   "metadata": {},
   "outputs": [
    {
     "data": {
      "text/html": [
       "<div>\n",
       "<style scoped>\n",
       "    .dataframe tbody tr th:only-of-type {\n",
       "        vertical-align: middle;\n",
       "    }\n",
       "\n",
       "    .dataframe tbody tr th {\n",
       "        vertical-align: top;\n",
       "    }\n",
       "\n",
       "    .dataframe thead th {\n",
       "        text-align: right;\n",
       "    }\n",
       "</style>\n",
       "<table border=\"1\" class=\"dataframe\">\n",
       "  <thead>\n",
       "    <tr style=\"text-align: right;\">\n",
       "      <th></th>\n",
       "      <th>LSTAT</th>\n",
       "      <th>RM</th>\n",
       "      <th>DIS</th>\n",
       "      <th>PTRATIO</th>\n",
       "      <th>NOX</th>\n",
       "      <th>B</th>\n",
       "      <th>RAD</th>\n",
       "      <th>AGE</th>\n",
       "      <th>TAX</th>\n",
       "      <th>CRIM</th>\n",
       "      <th>...</th>\n",
       "      <th>ZN</th>\n",
       "      <th>CHAS</th>\n",
       "      <th>y_train</th>\n",
       "      <th>delta_y_train</th>\n",
       "      <th>y_train_plus_delta</th>\n",
       "      <th>y_train_distances</th>\n",
       "      <th>y_train_weights</th>\n",
       "      <th>y_actual</th>\n",
       "      <th>y_forecast</th>\n",
       "      <th>y_weighted_forecast</th>\n",
       "    </tr>\n",
       "  </thead>\n",
       "  <tbody>\n",
       "    <tr>\n",
       "      <th>var_importance</th>\n",
       "      <td>36.393825</td>\n",
       "      <td>22.306304</td>\n",
       "      <td>6.629455</td>\n",
       "      <td>4.923878</td>\n",
       "      <td>4.911928</td>\n",
       "      <td>4.850029</td>\n",
       "      <td>4.363484</td>\n",
       "      <td>4.298297</td>\n",
       "      <td>3.952308</td>\n",
       "      <td>3.124069</td>\n",
       "      <td>...</td>\n",
       "      <td>1.362846</td>\n",
       "      <td>0.556963</td>\n",
       "      <td>NaN</td>\n",
       "      <td>NaN</td>\n",
       "      <td>NaN</td>\n",
       "      <td>NaN</td>\n",
       "      <td>NaN</td>\n",
       "      <td>NaN</td>\n",
       "      <td>NaN</td>\n",
       "      <td>NaN</td>\n",
       "    </tr>\n",
       "    <tr>\n",
       "      <th>neighbour_0</th>\n",
       "      <td>17.930000</td>\n",
       "      <td>5.961000</td>\n",
       "      <td>2.086900</td>\n",
       "      <td>19.100000</td>\n",
       "      <td>0.581000</td>\n",
       "      <td>378.090000</td>\n",
       "      <td>2.000000</td>\n",
       "      <td>92.900000</td>\n",
       "      <td>188.000000</td>\n",
       "      <td>0.092990</td>\n",
       "      <td>...</td>\n",
       "      <td>0.000000</td>\n",
       "      <td>0.000000</td>\n",
       "      <td>20.5</td>\n",
       "      <td>-0.282172</td>\n",
       "      <td>20.217828</td>\n",
       "      <td>0.114641</td>\n",
       "      <td>8.722859</td>\n",
       "      <td>NaN</td>\n",
       "      <td>NaN</td>\n",
       "      <td>NaN</td>\n",
       "    </tr>\n",
       "    <tr>\n",
       "      <th>neighbour_1</th>\n",
       "      <td>14.810000</td>\n",
       "      <td>5.986000</td>\n",
       "      <td>1.992900</td>\n",
       "      <td>19.100000</td>\n",
       "      <td>0.581000</td>\n",
       "      <td>385.020000</td>\n",
       "      <td>2.000000</td>\n",
       "      <td>88.400000</td>\n",
       "      <td>188.000000</td>\n",
       "      <td>0.169020</td>\n",
       "      <td>...</td>\n",
       "      <td>0.000000</td>\n",
       "      <td>0.000000</td>\n",
       "      <td>21.4</td>\n",
       "      <td>-1.739481</td>\n",
       "      <td>19.660519</td>\n",
       "      <td>0.497952</td>\n",
       "      <td>2.008224</td>\n",
       "      <td>NaN</td>\n",
       "      <td>NaN</td>\n",
       "      <td>NaN</td>\n",
       "    </tr>\n",
       "    <tr>\n",
       "      <th>neighbour_2</th>\n",
       "      <td>14.270000</td>\n",
       "      <td>6.004000</td>\n",
       "      <td>2.197400</td>\n",
       "      <td>19.100000</td>\n",
       "      <td>0.581000</td>\n",
       "      <td>377.670000</td>\n",
       "      <td>2.000000</td>\n",
       "      <td>84.100000</td>\n",
       "      <td>188.000000</td>\n",
       "      <td>0.071650</td>\n",
       "      <td>...</td>\n",
       "      <td>0.000000</td>\n",
       "      <td>0.000000</td>\n",
       "      <td>20.3</td>\n",
       "      <td>-2.037732</td>\n",
       "      <td>18.262268</td>\n",
       "      <td>0.617170</td>\n",
       "      <td>1.620299</td>\n",
       "      <td>NaN</td>\n",
       "      <td>NaN</td>\n",
       "      <td>NaN</td>\n",
       "    </tr>\n",
       "    <tr>\n",
       "      <th>neighbour_3</th>\n",
       "      <td>14.370000</td>\n",
       "      <td>5.870000</td>\n",
       "      <td>2.257700</td>\n",
       "      <td>19.100000</td>\n",
       "      <td>0.581000</td>\n",
       "      <td>389.150000</td>\n",
       "      <td>2.000000</td>\n",
       "      <td>69.700000</td>\n",
       "      <td>188.000000</td>\n",
       "      <td>0.068990</td>\n",
       "      <td>...</td>\n",
       "      <td>0.000000</td>\n",
       "      <td>0.000000</td>\n",
       "      <td>22.0</td>\n",
       "      <td>-2.722540</td>\n",
       "      <td>19.277460</td>\n",
       "      <td>0.776252</td>\n",
       "      <td>1.288242</td>\n",
       "      <td>NaN</td>\n",
       "      <td>NaN</td>\n",
       "      <td>NaN</td>\n",
       "    </tr>\n",
       "    <tr>\n",
       "      <th>neighbour_4</th>\n",
       "      <td>16.900000</td>\n",
       "      <td>5.942000</td>\n",
       "      <td>1.966900</td>\n",
       "      <td>21.200000</td>\n",
       "      <td>0.624000</td>\n",
       "      <td>378.250000</td>\n",
       "      <td>4.000000</td>\n",
       "      <td>93.500000</td>\n",
       "      <td>437.000000</td>\n",
       "      <td>0.322640</td>\n",
       "      <td>...</td>\n",
       "      <td>0.000000</td>\n",
       "      <td>0.000000</td>\n",
       "      <td>17.4</td>\n",
       "      <td>2.281550</td>\n",
       "      <td>19.681550</td>\n",
       "      <td>1.114944</td>\n",
       "      <td>0.896906</td>\n",
       "      <td>NaN</td>\n",
       "      <td>NaN</td>\n",
       "      <td>NaN</td>\n",
       "    </tr>\n",
       "    <tr>\n",
       "      <th>124</th>\n",
       "      <td>17.580000</td>\n",
       "      <td>5.879000</td>\n",
       "      <td>2.006300</td>\n",
       "      <td>19.100000</td>\n",
       "      <td>0.581000</td>\n",
       "      <td>379.380000</td>\n",
       "      <td>2.000000</td>\n",
       "      <td>95.800000</td>\n",
       "      <td>188.000000</td>\n",
       "      <td>0.098490</td>\n",
       "      <td>...</td>\n",
       "      <td>0.000000</td>\n",
       "      <td>0.000000</td>\n",
       "      <td>NaN</td>\n",
       "      <td>NaN</td>\n",
       "      <td>NaN</td>\n",
       "      <td>NaN</td>\n",
       "      <td>NaN</td>\n",
       "      <td>18.8</td>\n",
       "      <td>19.419925</td>\n",
       "      <td>19.806436</td>\n",
       "    </tr>\n",
       "  </tbody>\n",
       "</table>\n",
       "<p>7 rows × 21 columns</p>\n",
       "</div>"
      ],
      "text/plain": [
       "                    LSTAT         RM       DIS    PTRATIO       NOX  \\\n",
       "var_importance  36.393825  22.306304  6.629455   4.923878  4.911928   \n",
       "neighbour_0     17.930000   5.961000  2.086900  19.100000  0.581000   \n",
       "neighbour_1     14.810000   5.986000  1.992900  19.100000  0.581000   \n",
       "neighbour_2     14.270000   6.004000  2.197400  19.100000  0.581000   \n",
       "neighbour_3     14.370000   5.870000  2.257700  19.100000  0.581000   \n",
       "neighbour_4     16.900000   5.942000  1.966900  21.200000  0.624000   \n",
       "124             17.580000   5.879000  2.006300  19.100000  0.581000   \n",
       "\n",
       "                         B       RAD        AGE         TAX      CRIM  ...  \\\n",
       "var_importance    4.850029  4.363484   4.298297    3.952308  3.124069  ...   \n",
       "neighbour_0     378.090000  2.000000  92.900000  188.000000  0.092990  ...   \n",
       "neighbour_1     385.020000  2.000000  88.400000  188.000000  0.169020  ...   \n",
       "neighbour_2     377.670000  2.000000  84.100000  188.000000  0.071650  ...   \n",
       "neighbour_3     389.150000  2.000000  69.700000  188.000000  0.068990  ...   \n",
       "neighbour_4     378.250000  4.000000  93.500000  437.000000  0.322640  ...   \n",
       "124             379.380000  2.000000  95.800000  188.000000  0.098490  ...   \n",
       "\n",
       "                      ZN      CHAS  y_train  delta_y_train  \\\n",
       "var_importance  1.362846  0.556963      NaN            NaN   \n",
       "neighbour_0     0.000000  0.000000     20.5      -0.282172   \n",
       "neighbour_1     0.000000  0.000000     21.4      -1.739481   \n",
       "neighbour_2     0.000000  0.000000     20.3      -2.037732   \n",
       "neighbour_3     0.000000  0.000000     22.0      -2.722540   \n",
       "neighbour_4     0.000000  0.000000     17.4       2.281550   \n",
       "124             0.000000  0.000000      NaN            NaN   \n",
       "\n",
       "                y_train_plus_delta  y_train_distances  y_train_weights  \\\n",
       "var_importance                 NaN                NaN              NaN   \n",
       "neighbour_0              20.217828           0.114641         8.722859   \n",
       "neighbour_1              19.660519           0.497952         2.008224   \n",
       "neighbour_2              18.262268           0.617170         1.620299   \n",
       "neighbour_3              19.277460           0.776252         1.288242   \n",
       "neighbour_4              19.681550           1.114944         0.896906   \n",
       "124                            NaN                NaN              NaN   \n",
       "\n",
       "                y_actual  y_forecast  y_weighted_forecast  \n",
       "var_importance       NaN         NaN                  NaN  \n",
       "neighbour_0          NaN         NaN                  NaN  \n",
       "neighbour_1          NaN         NaN                  NaN  \n",
       "neighbour_2          NaN         NaN                  NaN  \n",
       "neighbour_3          NaN         NaN                  NaN  \n",
       "neighbour_4          NaN         NaN                  NaN  \n",
       "124                 18.8   19.419925            19.806436  \n",
       "\n",
       "[7 rows x 21 columns]"
      ]
     },
     "execution_count": 7,
     "metadata": {},
     "output_type": "execute_result"
    }
   ],
   "source": [
    "idx_review = 16\n",
    "contrastiveReg.get_contrastive_explanation(idx_review, X_test, y_test)"
   ]
  },
  {
   "cell_type": "code",
   "execution_count": 12,
   "metadata": {},
   "outputs": [],
   "source": [
    "#import utils.file_utils as fu\n",
    "#fu.to_random_excel_file(contrastiveReg.get_contrastive_explanation(idx_review, X_test, y_test), writeIndex=True)"
   ]
  },
  {
   "cell_type": "code",
   "execution_count": 13,
   "metadata": {},
   "outputs": [
    {
     "name": "stdout",
     "output_type": "stream",
     "text": [
      "                 0\n",
      "LSTAT    36.393825\n",
      "RM       22.306304\n",
      "DIS       6.629455\n",
      "PTRATIO   4.923878\n",
      "NOX       4.911928\n",
      "B         4.850029\n",
      "RAD       4.363484\n",
      "AGE       4.298297\n",
      "TAX       3.952308\n",
      "CRIM      3.124069\n",
      "INDUS     2.326615\n",
      "ZN        1.362846\n",
      "CHAS      0.556963\n"
     ]
    }
   ],
   "source": [
    "# Sort by importance\n",
    "df_feature_importances = cold_start_results.get('df_feat_importances', None)\n",
    "print(df_feature_importances)"
   ]
  },
  {
   "cell_type": "code",
   "execution_count": 14,
   "metadata": {},
   "outputs": [
    {
     "name": "stdout",
     "output_type": "stream",
     "text": [
      "MAE: 2.41\n",
      "MSE: 14.60\n",
      "RMSE: 3.82\n",
      "meanError: 0.20\n",
      "MAPE: 12.70\n",
      "R2: 0.79\n",
      "frc_error: 0.11\n",
      "frc_bias: 0.01\n",
      "frc_acc: 0.99\n",
      "Var explained: 0.79\n"
     ]
    }
   ],
   "source": [
    "_=contrastiveReg.get_frc_errors(y_test, cold_start_results['y_hat_weighted'])"
   ]
  },
  {
   "cell_type": "code",
   "execution_count": 15,
   "metadata": {},
   "outputs": [
    {
     "data": {
      "text/plain": [
       "<matplotlib.collections.PathCollection at 0x12cca4fd0>"
      ]
     },
     "execution_count": 15,
     "metadata": {},
     "output_type": "execute_result"
    },
    {
     "data": {
      "image/png": "[encoded data removed]",
      "text/plain": [
       "<Figure size 432x288 with 1 Axes>"
      ]
     },
     "metadata": {
      "needs_background": "light"
     },
     "output_type": "display_data"
    }
   ],
   "source": [
    "plt.scatter(y_test, cold_start_results['y_hat_weighted'])"
   ]
  },
  {
   "cell_type": "code",
   "execution_count": 16,
   "metadata": {},
   "outputs": [
    {
     "name": "stdout",
     "output_type": "stream",
     "text": [
      "\n",
      "0:\tlearn: 8.7221063\ttest: 8.6497482\tbest: 8.6497482 (0)\ttotal: 57ms\tremaining: 34.1s\n",
      "50:\tlearn: 1.1212170\ttest: 4.5186128\tbest: 4.5186128 (50)\ttotal: 2.7s\tremaining: 29s\n",
      "100:\tlearn: 0.3828253\ttest: 4.4409489\tbest: 4.4401521 (99)\ttotal: 5.37s\tremaining: 26.5s\n",
      "150:\tlearn: 0.1441431\ttest: 4.4347493\tbest: 4.4341525 (137)\ttotal: 8.32s\tremaining: 24.7s\n",
      "200:\tlearn: 0.0582845\ttest: 4.4347032\tbest: 4.4341525 (137)\ttotal: 11.1s\tremaining: 22s\n",
      "250:\tlearn: 0.0277647\ttest: 4.4349122\tbest: 4.4341525 (137)\ttotal: 13.7s\tremaining: 19s\n",
      "300:\tlearn: 0.0136617\ttest: 4.4348717\tbest: 4.4341525 (137)\ttotal: 16.5s\tremaining: 16.4s\n",
      "350:\tlearn: 0.0070845\ttest: 4.4350787\tbest: 4.4341525 (137)\ttotal: 19s\tremaining: 13.5s\n",
      "400:\tlearn: 0.0040204\ttest: 4.4352004\tbest: 4.4341525 (137)\ttotal: 21.6s\tremaining: 10.7s\n",
      "450:\tlearn: 0.0020967\ttest: 4.4351743\tbest: 4.4341525 (137)\ttotal: 24.1s\tremaining: 7.97s\n",
      "500:\tlearn: 0.0010494\ttest: 4.4351369\tbest: 4.4341525 (137)\ttotal: 26.8s\tremaining: 5.29s\n",
      "550:\tlearn: 0.0005311\ttest: 4.4351433\tbest: 4.4341525 (137)\ttotal: 29.2s\tremaining: 2.6s\n",
      "599:\tlearn: 0.0002825\ttest: 4.4351456\tbest: 4.4341525 (137)\ttotal: 31.8s\tremaining: 0us\n",
      "\n",
      "bestTest = 4.434152533\n",
      "bestIteration = 137\n",
      "\n",
      "Shrink model to first 138 iterations.\n"
     ]
    }
   ],
   "source": [
    "# Predict with CatBoost (original)\n",
    "y_hat_catboost = fhelp.frc_plain_CatBoost(num_neighbours, validation_test_size,\n",
    "    num_iterations, learning_rate, depth, \\\n",
    "    contrastiveReg.X_train, contrastiveReg.y_train, X_test)"
   ]
  },
  {
   "cell_type": "code",
   "execution_count": null,
   "metadata": {},
   "outputs": [],
   "source": [
    "# Predict with Extra Random Trees (sklearn)\n",
    "y_hat_ERT = fhelp.frc_plain_extratrees(num_neighbours, depth, validation_test_size, \n",
    "                                            contrastiveReg.X_train, contrastiveReg.y_train, X_test.values)"
   ]
  },
  {
   "cell_type": "code",
   "execution_count": null,
   "metadata": {},
   "outputs": [],
   "source": [
    "# Predict with NGBoost\n",
    "y_hat_NGBoost = fhelp.frc_plain_ngboost(num_iterations, learning_rate, validation_test_size, \n",
    "                                        contrastiveReg.X_train, contrastiveReg.y_train, \n",
    "                                        X_test.values)"
   ]
  },
  {
   "cell_type": "code",
   "execution_count": null,
   "metadata": {},
   "outputs": [],
   "source": [
    "# Arrange the results in a DF so we can easily plot them\n",
    "df_test = X_test.copy()\n",
    "df_test['y_actual'] = y_test\n",
    "df_test['y_hat_catboost'] = y_hat_catboost\n",
    "df_test['y_hat_extratrees'] = y_hat_ERT\n",
    "df_test['y_hat_ngboost'] = y_hat_NGBoost\n",
    "df_test['y_hat_contrastive'] = cold_start_results['y_hat_weighted']"
   ]
  },
  {
   "cell_type": "markdown",
   "metadata": {},
   "source": [
    "#### Arrange the results per model"
   ]
  },
  {
   "cell_type": "code",
   "execution_count": null,
   "metadata": {},
   "outputs": [],
   "source": [
    "df_frc_metrics = []\n",
    "for model_type in ['contrastive','catboost', 'extratrees', 'ngboost']:\n",
    "    df_frc_metrics.append(pd.DataFrame([contrastiveReg.get_frc_errors(y_test, df_test['y_hat_' + model_type], False)], index=[model_type]))\n",
    "\n",
    "df_frc_metrics = pd.concat(df_frc_metrics)\n",
    "df_frc_metrics"
   ]
  }
 ],
 "metadata": {
  "kernelspec": {
   "display_name": "Python 3",
   "language": "python",
   "name": "python3"
  },
  "language_info": {
   "codemirror_mode": {
    "name": "ipython",
    "version": 3
   },
   "file_extension": ".py",
   "mimetype": "text/x-python",
   "name": "python",
   "nbconvert_exporter": "python",
   "pygments_lexer": "ipython3",
   "version": "3.8.7"
  }
 },
 "nbformat": 4,
 "nbformat_minor": 4
}
