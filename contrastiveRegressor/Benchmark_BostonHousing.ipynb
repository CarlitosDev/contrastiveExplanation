{
 "cells": [
  {
   "cell_type": "markdown",
   "metadata": {},
   "source": [
    "### Contrastive Explanations on a public dataset\n",
    "Quick test on the Boston housing dataset as it can be seen as a cold-start problem"
   ]
  },
  {
   "cell_type": "code",
   "execution_count": 29,
   "metadata": {},
   "outputs": [],
   "source": [
    "from sklearn.datasets import load_boston\n",
    "import pandas as pd\n",
    "import numpy as np\n",
    "from os import path as _p\n",
    "from contrastiveRegressor import contrastiveRegressor\n",
    "\n",
    "from sklearn.model_selection import train_test_split\n",
    "from catboost import CatBoostRegressor, Pool\n",
    "\n",
    "import matplotlib.pyplot as plt\n",
    "import preprocessing_utils as pt\n",
    "from generate_Gompertz_sales import generate_Gompertz_sales\n",
    "import fcn_helpers as fhelp\n",
    "import datetime as dt"
   ]
  },
  {
   "cell_type": "code",
   "execution_count": 30,
   "metadata": {},
   "outputs": [],
   "source": [
    "# prepare some data\n",
    "boston = load_boston()\n",
    "y = boston.target\n",
    "X = pd.DataFrame(boston.data, columns=boston.feature_names)\n",
    "inputVars = X.columns.tolist()"
   ]
  },
  {
   "cell_type": "code",
   "execution_count": 31,
   "metadata": {},
   "outputs": [],
   "source": [
    "X_train, X_test, y_train, y_test = \\\n",
    "  train_test_split(X, y, test_size=0.25, random_state=42)"
   ]
  },
  {
   "cell_type": "code",
   "execution_count": 32,
   "metadata": {},
   "outputs": [],
   "source": [
    "# Regressor\n",
    "num_iterations = 600\n",
    "learning_rate  = 0.15\n",
    "depth = 12\n",
    "num_neighbours = 5\n",
    "validation_test_size = 0.20\n",
    "feat_importance_keyword = 'feature_importances_'"
   ]
  },
  {
   "cell_type": "code",
   "execution_count": 33,
   "metadata": {},
   "outputs": [
    {
     "name": "stdout",
     "output_type": "stream",
     "text": [
      "Preparing Training set...\n",
      "Training set (1515, 26). Evaluation (380, 26)...done.\n",
      "...Symmetrical Weights\n",
      "MAE: 1.24\n",
      "MSE: 2.60\n",
      "RMSE: 1.61\n",
      "meanError: -0.19\n",
      "MAPE: 6.57\n",
      "R2: 0.96\n",
      "frc_error: 0.06\n",
      "frc_bias: -0.01\n",
      "frc_acc: 1.01\n",
      "Var explained: 0.96\n"
     ]
    }
   ],
   "source": [
    "# Create the forecaster\n",
    "contrastiveReg = contrastiveRegressor(num_neighbours = num_neighbours, \n",
    "validation_test_size = validation_test_size)\n",
    "\n",
    "# CatBoost\n",
    "cb_model = CatBoostRegressor(iterations=num_iterations, learning_rate=learning_rate,\n",
    "depth=depth, loss_function='RMSE', cat_features=None, silent=False)\n",
    "# Set the regressor\n",
    "contrastiveReg.set_regressor(cb_model, feat_importance_keyword, inputVars)\n",
    "# fit the regressor\n",
    "contrastiveReg.fit(X_train.values, y_train)\n",
    "# eval results\n",
    "contrastiveReg.predict_eval_test()\n",
    "eval_results = contrastiveReg.get_results()"
   ]
  },
  {
   "cell_type": "code",
   "execution_count": 34,
   "metadata": {},
   "outputs": [
    {
     "name": "stdout",
     "output_type": "stream",
     "text": [
      "...Symmetrical Weights\n"
     ]
    }
   ],
   "source": [
    "# Predict\n",
    "contrastiveReg.predict(X_test.values)\n",
    "cold_start_results = contrastiveReg.get_results()"
   ]
  },
  {
   "cell_type": "code",
   "execution_count": 35,
   "metadata": {},
   "outputs": [
    {
     "name": "stdout",
     "output_type": "stream",
     "text": [
      "                 0\n",
      "RM       29.690510\n",
      "LSTAT    26.417888\n",
      "DIS       6.833884\n",
      "TAX       5.295483\n",
      "PTRATIO   5.158140\n",
      "AGE       5.122108\n",
      "B         4.654480\n",
      "NOX       4.166632\n",
      "RAD       3.910348\n",
      "CRIM      3.808861\n",
      "INDUS     2.896095\n",
      "CHAS      1.110793\n",
      "ZN        0.934777\n"
     ]
    }
   ],
   "source": [
    "# Sort by importance\n",
    "df_feature_importances = cold_start_results.get('df_feat_importances', None)\n",
    "print(df_feature_importances)"
   ]
  },
  {
   "cell_type": "code",
   "execution_count": 36,
   "metadata": {},
   "outputs": [
    {
     "name": "stdout",
     "output_type": "stream",
     "text": [
      "MAE: 2.15\n",
      "MSE: 11.23\n",
      "RMSE: 3.35\n",
      "meanError: 0.33\n",
      "MAPE: 11.15\n",
      "R2: 0.84\n",
      "frc_error: 0.10\n",
      "frc_bias: 0.02\n",
      "frc_acc: 0.98\n",
      "Var explained: 0.84\n"
     ]
    }
   ],
   "source": [
    "_=contrastiveReg.get_frc_errors(y_test, cold_start_results['y_hat_weighted'])"
   ]
  },
  {
   "cell_type": "code",
   "execution_count": 37,
   "metadata": {},
   "outputs": [
    {
     "data": {
      "text/plain": [
       "<matplotlib.collections.PathCollection at 0x1312b7150>"
      ]
     },
     "execution_count": 37,
     "metadata": {},
     "output_type": "execute_result"
    },
    {
     "data": {
      "image/png": "[encoded data removed]",
      "text/plain": [
       "<Figure size 432x288 with 1 Axes>"
      ]
     },
     "metadata": {
      "needs_background": "light"
     },
     "output_type": "display_data"
    }
   ],
   "source": [
    "plt.scatter(y_test, cold_start_results['y_hat_weighted'])"
   ]
  },
  {
   "cell_type": "code",
   "execution_count": 38,
   "metadata": {},
   "outputs": [
    {
     "name": "stdout",
     "output_type": "stream",
     "text": [
      "\n",
      "0:\tlearn: 9.0346178\ttest: 7.3716158\tbest: 7.3716158 (0)\ttotal: 57.9ms\tremaining: 34.7s\n",
      "50:\tlearn: 1.1671842\ttest: 3.5294338\tbest: 3.5294338 (50)\ttotal: 2.72s\tremaining: 29.3s\n",
      "100:\tlearn: 0.4113366\ttest: 3.4712149\tbest: 3.4691309 (96)\ttotal: 5.67s\tremaining: 28s\n",
      "150:\tlearn: 0.1612490\ttest: 3.4714149\tbest: 3.4654375 (121)\ttotal: 8.53s\tremaining: 25.4s\n",
      "200:\tlearn: 0.0801099\ttest: 3.4646410\tbest: 3.4644880 (194)\ttotal: 11.1s\tremaining: 22s\n",
      "250:\tlearn: 0.0384823\ttest: 3.4625064\tbest: 3.4625064 (250)\ttotal: 13.6s\tremaining: 18.9s\n",
      "300:\tlearn: 0.0200800\ttest: 3.4622858\tbest: 3.4622839 (298)\ttotal: 16.1s\tremaining: 16s\n",
      "350:\tlearn: 0.0094904\ttest: 3.4621805\tbest: 3.4620751 (337)\ttotal: 18.8s\tremaining: 13.3s\n",
      "400:\tlearn: 0.0046895\ttest: 3.4621816\tbest: 3.4620751 (337)\ttotal: 21.6s\tremaining: 10.7s\n",
      "450:\tlearn: 0.0025483\ttest: 3.4621267\tbest: 3.4620751 (337)\ttotal: 24.3s\tremaining: 8.04s\n",
      "500:\tlearn: 0.0012537\ttest: 3.4620951\tbest: 3.4620751 (337)\ttotal: 27.2s\tremaining: 5.37s\n",
      "550:\tlearn: 0.0006522\ttest: 3.4621314\tbest: 3.4620751 (337)\ttotal: 29.6s\tremaining: 2.64s\n",
      "599:\tlearn: 0.0003431\ttest: 3.4621227\tbest: 3.4620751 (337)\ttotal: 32.2s\tremaining: 0us\n",
      "\n",
      "bestTest = 3.462075053\n",
      "bestIteration = 337\n",
      "\n",
      "Shrink model to first 338 iterations.\n"
     ]
    }
   ],
   "source": [
    "# Predict with CatBoost (original)\n",
    "y_hat_catboost = fhelp.frc_plain_CatBoost(num_neighbours, validation_test_size,\n",
    "    num_iterations, learning_rate, depth, \\\n",
    "    contrastiveReg.X_train, contrastiveReg.y_train, X_test)"
   ]
  },
  {
   "cell_type": "code",
   "execution_count": 39,
   "metadata": {},
   "outputs": [],
   "source": [
    "# Predict with Extra Random Trees (sklearn)\n",
    "y_hat_ERT = fhelp.frc_plain_extratrees(num_neighbours, depth, validation_test_size, \n",
    "                                            contrastiveReg.X_train, contrastiveReg.y_train, X_test.values)"
   ]
  },
  {
   "cell_type": "code",
   "execution_count": 40,
   "metadata": {},
   "outputs": [
    {
     "name": "stdout",
     "output_type": "stream",
     "text": [
      "[iter 0] loss=3.6408 val_loss=3.6381 scale=0.5000 norm=3.3848\n",
      "[iter 100] loss=0.8581 val_loss=18.0923 scale=0.5000 norm=0.3715\n",
      "[iter 200] loss=0.2529 val_loss=105.3759 scale=0.5000 norm=0.2569\n",
      "[iter 300] loss=0.0477 val_loss=261.9135 scale=0.0005 norm=0.0002\n",
      "[iter 400] loss=0.0430 val_loss=267.5069 scale=0.0010 norm=0.0005\n",
      "[iter 500] loss=0.0255 val_loss=286.3627 scale=0.0010 norm=0.0005\n"
     ]
    }
   ],
   "source": [
    "# Predict with NGBoost\n",
    "y_hat_NGBoost = fhelp.frc_plain_ngboost(num_iterations, learning_rate, validation_test_size, \n",
    "                                        contrastiveReg.X_train, contrastiveReg.y_train, \n",
    "                                        X_test.values)"
   ]
  },
  {
   "cell_type": "code",
   "execution_count": 41,
   "metadata": {},
   "outputs": [],
   "source": [
    "# Arrange the results in a DF so we can easily plot them\n",
    "df_test = X_test.copy()\n",
    "df_test['y_actual'] = y_test\n",
    "df_test['y_hat_catboost'] = y_hat_catboost\n",
    "df_test['y_hat_extratrees'] = y_hat_ERT\n",
    "df_test['y_hat_ngboost'] = y_hat_NGBoost\n",
    "df_test['y_hat_contrastive'] = cold_start_results['y_hat_weighted']"
   ]
  },
  {
   "cell_type": "markdown",
   "metadata": {},
   "source": [
    "#### Arrange the results per model"
   ]
  },
  {
   "cell_type": "code",
   "execution_count": 42,
   "metadata": {},
   "outputs": [
    {
     "data": {
      "text/html": [
       "<div>\n",
       "<style scoped>\n",
       "    .dataframe tbody tr th:only-of-type {\n",
       "        vertical-align: middle;\n",
       "    }\n",
       "\n",
       "    .dataframe tbody tr th {\n",
       "        vertical-align: top;\n",
       "    }\n",
       "\n",
       "    .dataframe thead th {\n",
       "        text-align: right;\n",
       "    }\n",
       "</style>\n",
       "<table border=\"1\" class=\"dataframe\">\n",
       "  <thead>\n",
       "    <tr style=\"text-align: right;\">\n",
       "      <th></th>\n",
       "      <th>MAE</th>\n",
       "      <th>MSE</th>\n",
       "      <th>RMSE</th>\n",
       "      <th>meanError</th>\n",
       "      <th>MAPE</th>\n",
       "      <th>R2</th>\n",
       "      <th>frc_error</th>\n",
       "      <th>frc_bias</th>\n",
       "      <th>frc_acc</th>\n",
       "      <th>Var explained</th>\n",
       "    </tr>\n",
       "  </thead>\n",
       "  <tbody>\n",
       "    <tr>\n",
       "      <th>contrastive</th>\n",
       "      <td>2.149956</td>\n",
       "      <td>11.225094</td>\n",
       "      <td>3.350387</td>\n",
       "      <td>0.325733</td>\n",
       "      <td>11.153019</td>\n",
       "      <td>0.839704</td>\n",
       "      <td>0.100402</td>\n",
       "      <td>0.015447</td>\n",
       "      <td>0.984553</td>\n",
       "      <td>0.841219</td>\n",
       "    </tr>\n",
       "    <tr>\n",
       "      <th>catboost</th>\n",
       "      <td>2.240338</td>\n",
       "      <td>12.004185</td>\n",
       "      <td>3.464706</td>\n",
       "      <td>0.476425</td>\n",
       "      <td>11.569335</td>\n",
       "      <td>0.828578</td>\n",
       "      <td>0.104623</td>\n",
       "      <td>0.022755</td>\n",
       "      <td>0.977245</td>\n",
       "      <td>0.831819</td>\n",
       "    </tr>\n",
       "    <tr>\n",
       "      <th>extratrees</th>\n",
       "      <td>2.308244</td>\n",
       "      <td>15.668235</td>\n",
       "      <td>3.958312</td>\n",
       "      <td>0.659751</td>\n",
       "      <td>11.171127</td>\n",
       "      <td>0.776255</td>\n",
       "      <td>0.107794</td>\n",
       "      <td>0.031790</td>\n",
       "      <td>0.968210</td>\n",
       "      <td>0.782471</td>\n",
       "    </tr>\n",
       "    <tr>\n",
       "      <th>ngboost</th>\n",
       "      <td>2.279355</td>\n",
       "      <td>13.496430</td>\n",
       "      <td>3.673749</td>\n",
       "      <td>0.353082</td>\n",
       "      <td>11.244633</td>\n",
       "      <td>0.807269</td>\n",
       "      <td>0.106445</td>\n",
       "      <td>0.016765</td>\n",
       "      <td>0.983235</td>\n",
       "      <td>0.809049</td>\n",
       "    </tr>\n",
       "  </tbody>\n",
       "</table>\n",
       "</div>"
      ],
      "text/plain": [
       "                  MAE        MSE      RMSE  meanError       MAPE        R2  \\\n",
       "contrastive  2.149956  11.225094  3.350387   0.325733  11.153019  0.839704   \n",
       "catboost     2.240338  12.004185  3.464706   0.476425  11.569335  0.828578   \n",
       "extratrees   2.308244  15.668235  3.958312   0.659751  11.171127  0.776255   \n",
       "ngboost      2.279355  13.496430  3.673749   0.353082  11.244633  0.807269   \n",
       "\n",
       "             frc_error  frc_bias   frc_acc  Var explained  \n",
       "contrastive   0.100402  0.015447  0.984553       0.841219  \n",
       "catboost      0.104623  0.022755  0.977245       0.831819  \n",
       "extratrees    0.107794  0.031790  0.968210       0.782471  \n",
       "ngboost       0.106445  0.016765  0.983235       0.809049  "
      ]
     },
     "execution_count": 42,
     "metadata": {},
     "output_type": "execute_result"
    }
   ],
   "source": [
    "df_frc_metrics = []\n",
    "for model_type in ['contrastive','catboost', 'extratrees', 'ngboost']:\n",
    "    df_frc_metrics.append(pd.DataFrame([contrastiveReg.get_frc_errors(y_test, df_test['y_hat_' + model_type], False)], index=[model_type]))\n",
    "\n",
    "df_frc_metrics = pd.concat(df_frc_metrics)\n",
    "df_frc_metrics"
   ]
  }
 ],
 "metadata": {
  "kernelspec": {
   "display_name": "Python 3",
   "language": "python",
   "name": "python3"
  },
  "language_info": {
   "codemirror_mode": {
    "name": "ipython",
    "version": 3
   },
   "file_extension": ".py",
   "mimetype": "text/x-python",
   "name": "python",
   "nbconvert_exporter": "python",
   "pygments_lexer": "ipython3",
   "version": "3.7.6"
  }
 },
 "nbformat": 4,
 "nbformat_minor": 4
}
